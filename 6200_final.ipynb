{
  "nbformat": 4,
  "nbformat_minor": 0,
  "metadata": {
    "colab": {
      "provenance": [],
      "authorship_tag": "ABX9TyPI2HHuysWfANQKLJJ+pIyJ",
      "include_colab_link": true
    },
    "kernelspec": {
      "name": "python3",
      "display_name": "Python 3"
    },
    "language_info": {
      "name": "python"
    }
  },
  "cells": [
    {
      "cell_type": "markdown",
      "metadata": {
        "id": "view-in-github",
        "colab_type": "text"
      },
      "source": [
        "<a href=\"https://colab.research.google.com/github/havaledar/6200_final/blob/main/6200_final.ipynb\" target=\"_parent\"><img src=\"https://colab.research.google.com/assets/colab-badge.svg\" alt=\"Open In Colab\"/></a>"
      ]
    },
    {
      "cell_type": "code",
      "source": [
        "import pandas as pd"
      ],
      "metadata": {
        "id": "UE06Z0ia1KzV"
      },
      "execution_count": 1,
      "outputs": []
    },
    {
      "cell_type": "code",
      "execution_count": 2,
      "metadata": {
        "id": "fLd7LiHJnl28"
      },
      "outputs": [],
      "source": [
        "BandL=pd.read_csv(\"https://raw.githubusercontent.com/havaledar/6200_final/main/B%26L.csv\")\n",
        "BL=pd.read_csv(\"https://raw.githubusercontent.com/havaledar/6200_final/main/BLs.csv\")\n",
        "BS=pd.read_csv(\"https://raw.githubusercontent.com/havaledar/6200_final/main/BSs.csv\")\n",
        "B=pd.read_csv(\"https://raw.githubusercontent.com/havaledar/6200_final/main/Bs.csv\")\n",
        "LBSC=pd.read_csv(\"https://raw.githubusercontent.com/havaledar/6200_final/main/LBSC.csv\")\n",
        "LS=pd.read_csv(\"https://raw.githubusercontent.com/havaledar/6200_final/main/LSs.csv\")\n",
        "L=pd.read_csv(\"https://raw.githubusercontent.com/havaledar/6200_final/main/Ls.csv\")"
      ]
    },
    {
      "cell_type": "code",
      "source": [
        "BandL.columns=['City', 'Country', 'Year', 'Ds', 'Event', 'discipline', 'category',\n",
        "       'rank', 'firstname', 'lastname', 'country', 'yob',\n",
        "       'Qualification score', 'Qualification rank', 'Semi-Final score',\n",
        "       'Semi-Final rank', 'Final score', 'Final rank']\n",
        "B.columns=['City', 'Country', 'Year', 'Ds', 'Event', 'discipline', 'category',\n",
        "       'rank', 'firstname', 'lastname', 'country', 'yob',\n",
        "       'Qualification score', 'Qualification rank', 'Semi-Final score',\n",
        "       'Semi-Final rank', 'Final score', 'Final rank']\n",
        "LS.columns=['City', 'Country', 'Year', 'Ds', 'Event', 'discipline', 'category',\n",
        "       'rank', 'firstname', 'lastname', 'country', 'yob',\n",
        "       'Qualification 1 score', 'Qualification 1 rank',\n",
        "       'Qualification 2 score', 'Qualification 2 rank', 'Qualification score',\n",
        "       'Qualification rank', 'Semi-Final score', 'Semi-Final rank',\n",
        "       '1/8 score', '1/4 score', '1/2 score', 'Small Final score',\n",
        "       'Final score', 'Final rank']"
      ],
      "metadata": {
        "id": "pCBjNdeo2u9V"
      },
      "execution_count": 3,
      "outputs": []
    },
    {
      "cell_type": "code",
      "source": [
        "df=pd.concat([LBSC, BL, BS, L, BandL, B, LS])\n",
        "print(len(df.columns), len(LBSC.columns))"
      ],
      "metadata": {
        "colab": {
          "base_uri": "https://localhost:8080/"
        },
        "id": "0DFeEAGy2IGL",
        "outputId": "5843ef68-c0f2-40c8-d8cd-33b4b21487f3"
      },
      "execution_count": 4,
      "outputs": [
        {
          "output_type": "stream",
          "name": "stdout",
          "text": [
            "26 26\n"
          ]
        }
      ]
    },
    {
      "cell_type": "code",
      "source": [
        "df.columns"
      ],
      "metadata": {
        "id": "r0ddi81IP5jW",
        "outputId": "3fc4df15-a795-45b7-a5e2-0bdbd21214c1",
        "colab": {
          "base_uri": "https://localhost:8080/"
        }
      },
      "execution_count": 12,
      "outputs": [
        {
          "output_type": "execute_result",
          "data": {
            "text/plain": [
              "Index(['City', 'Country', 'Year', 'Ds', 'Event', 'discipline', 'category',\n",
              "       'rank', 'firstname', 'lastname', 'country', 'yob',\n",
              "       'Qualification 1 score', 'Qualification 1 rank',\n",
              "       'Qualification 2 score', 'Qualification 2 rank', 'Qualification score',\n",
              "       'Qualification rank', 'Semi-Final score', 'Semi-Final rank',\n",
              "       '1/8 score', '1/4 score', '1/2 score', 'Small Final score',\n",
              "       'Final score', 'Final rank', 'fullname'],\n",
              "      dtype='object')"
            ]
          },
          "metadata": {},
          "execution_count": 12
        }
      ]
    },
    {
      "cell_type": "code",
      "source": [
        "df[\"fullname\"]=df[\"firstname\"]+\" \"+df[\"lastname\"]"
      ],
      "metadata": {
        "id": "eneZgkEFP_4_"
      },
      "execution_count": 11,
      "outputs": []
    },
    {
      "cell_type": "code",
      "source": [
        "cou = pd.read_csv(\"https://raw.githubusercontent.com/plotly/datasets/master/2014_world_gdp_with_codes.csv\")"
      ],
      "metadata": {
        "id": "P_NMaEXLRMA2"
      },
      "execution_count": null,
      "outputs": []
    },
    {
      "cell_type": "code",
      "source": [
        "df[~df['country'].isin(cou[\"CODE\"])][\"country\"].unique()"
      ],
      "metadata": {
        "id": "mYu6BqzMR1Ba",
        "outputId": "f8f3c2ce-ca8e-4f5f-ab07-9e3e4ac97ad5",
        "colab": {
          "base_uri": "https://localhost:8080/"
        }
      },
      "execution_count": 30,
      "outputs": [
        {
          "output_type": "execute_result",
          "data": {
            "text/plain": [
              "array([], dtype=object)"
            ]
          },
          "metadata": {},
          "execution_count": 30
        }
      ]
    },
    {
      "cell_type": "code",
      "source": [
        "df.loc[df.country == 'SLO', 'country'] = 'SVN'\n",
        "df.loc[df.country == 'GER', 'country'] = 'DEU'\n",
        "df.loc[df.country == 'SUI', 'country'] = 'CHE'\n",
        "df.loc[df.country == 'NED', 'country'] = 'NLD'\n",
        "df.loc[df.country == 'IRI', 'country'] = 'IRN'\n",
        "df.loc[df.country == 'LAT', 'country'] = 'LVA'\n",
        "df.loc[df.country == 'TPE', 'country'] = 'TWN'\n",
        "df.loc[df.country == 'CHI', 'country'] = 'CHL'\n",
        "df.loc[df.country == 'RSA', 'country'] = 'ZAF'\n",
        "df.loc[df.country == 'BUL', 'country'] = 'BGR'\n",
        "df.loc[df.country == 'CRO', 'country'] = 'HRV'\n",
        "df.loc[df.country == 'GRE', 'country'] = 'GRC'\n",
        "df.loc[df.country == 'PUR', 'country'] = 'PRI'\n",
        "df.loc[df.country == 'DEN', 'country'] = 'DNK'\n",
        "df.loc[df.country == 'MRI', 'country'] = 'MUS'\n",
        "df.loc[df.country == 'INA', 'country'] = 'IDN'\n",
        "df.loc[df.country == 'MGL', 'country'] = 'MNG'"
      ],
      "metadata": {
        "id": "97vgFAPqRBiE"
      },
      "execution_count": 29,
      "outputs": []
    },
    {
      "cell_type": "code",
      "source": [
        "df.to_csv(\"df.csv\")"
      ],
      "metadata": {
        "id": "N88SUr4l3ubm"
      },
      "execution_count": 31,
      "outputs": []
    }
  ]
}