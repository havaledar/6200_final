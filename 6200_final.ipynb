{
  "nbformat": 4,
  "nbformat_minor": 0,
  "metadata": {
    "colab": {
      "provenance": [],
      "authorship_tag": "ABX9TyMJM4kFjhbobG6N0GslAwem",
      "include_colab_link": true
    },
    "kernelspec": {
      "name": "python3",
      "display_name": "Python 3"
    },
    "language_info": {
      "name": "python"
    }
  },
  "cells": [
    {
      "cell_type": "markdown",
      "metadata": {
        "id": "view-in-github",
        "colab_type": "text"
      },
      "source": [
        "<a href=\"https://colab.research.google.com/github/havaledar/6200_final/blob/main/6200_final.ipynb\" target=\"_parent\"><img src=\"https://colab.research.google.com/assets/colab-badge.svg\" alt=\"Open In Colab\"/></a>"
      ]
    },
    {
      "cell_type": "code",
      "source": [
        "import pandas as pd"
      ],
      "metadata": {
        "id": "UE06Z0ia1KzV"
      },
      "execution_count": 22,
      "outputs": []
    },
    {
      "cell_type": "code",
      "execution_count": 23,
      "metadata": {
        "id": "fLd7LiHJnl28"
      },
      "outputs": [],
      "source": [
        "BandL=pd.read_csv(\"https://raw.githubusercontent.com/havaledar/6200_final/main/B%26L.csv\")\n",
        "BL=pd.read_csv(\"https://raw.githubusercontent.com/havaledar/6200_final/main/BLs.csv\")\n",
        "BS=pd.read_csv(\"https://raw.githubusercontent.com/havaledar/6200_final/main/BSs.csv\")\n",
        "B=pd.read_csv(\"https://raw.githubusercontent.com/havaledar/6200_final/main/Bs.csv\")\n",
        "LBSC=pd.read_csv(\"https://raw.githubusercontent.com/havaledar/6200_final/main/LBSC.csv\")\n",
        "LS=pd.read_csv(\"https://raw.githubusercontent.com/havaledar/6200_final/main/LSs.csv\")\n",
        "L=pd.read_csv(\"https://raw.githubusercontent.com/havaledar/6200_final/main/Ls.csv\")"
      ]
    },
    {
      "cell_type": "code",
      "source": [
        "BandL.columns=['City', 'Country', 'Year', 'Ds', 'Event', 'discipline', 'category',\n",
        "       'rank', 'firstname', 'lastname', 'country', 'yob',\n",
        "       'Qualification score', 'Qualification rank', 'Semi-Final score',\n",
        "       'Semi-Final rank', 'Final score', 'Final rank']\n",
        "B.columns=['City', 'Country', 'Year', 'Ds', 'Event', 'discipline', 'category',\n",
        "       'rank', 'firstname', 'lastname', 'country', 'yob',\n",
        "       'Qualification score', 'Qualification rank', 'Semi-Final score',\n",
        "       'Semi-Final rank', 'Final score', 'Final rank']\n",
        "LS.columns=['City', 'Country', 'Year', 'Ds', 'Event', 'discipline', 'category',\n",
        "       'rank', 'firstname', 'lastname', 'country', 'yob',\n",
        "       'Qualification 1 score', 'Qualification 1 rank',\n",
        "       'Qualification 2 score', 'Qualification 2 rank', 'Qualification score',\n",
        "       'Qualification rank', 'Semi-Final score', 'Semi-Final rank',\n",
        "       '1/8 score', '1/4 score', '1/2 score', 'Small Final score',\n",
        "       'Final score', 'Final rank']"
      ],
      "metadata": {
        "id": "pCBjNdeo2u9V"
      },
      "execution_count": 24,
      "outputs": []
    },
    {
      "cell_type": "code",
      "source": [
        "df=pd.concat([LBSC, BL, BS, L, BandL, B, LS])\n",
        "print(len(df.columns), len(LBSC.columns))"
      ],
      "metadata": {
        "colab": {
          "base_uri": "https://localhost:8080/"
        },
        "id": "0DFeEAGy2IGL",
        "outputId": "02a31de4-73e2-4cc8-fdc3-63866bf1ea44"
      },
      "execution_count": 25,
      "outputs": [
        {
          "output_type": "stream",
          "name": "stdout",
          "text": [
            "26 26\n"
          ]
        }
      ]
    },
    {
      "cell_type": "code",
      "source": [
        "df.columns"
      ],
      "metadata": {
        "id": "r0ddi81IP5jW",
        "outputId": "509e8f08-d438-45e1-d448-2f02fe37ed30",
        "colab": {
          "base_uri": "https://localhost:8080/"
        }
      },
      "execution_count": 26,
      "outputs": [
        {
          "output_type": "execute_result",
          "data": {
            "text/plain": [
              "Index(['City', 'Country', 'Year', 'Ds', 'Event', 'discipline', 'category',\n",
              "       'rank', 'firstname', 'lastname', 'country', 'yob',\n",
              "       'Qualification 1 score', 'Qualification 1 rank',\n",
              "       'Qualification 2 score', 'Qualification 2 rank', 'Qualification score',\n",
              "       'Qualification rank', 'Semi-Final score', 'Semi-Final rank',\n",
              "       '1/8 score', '1/4 score', '1/2 score', 'Small Final score',\n",
              "       'Final score', 'Final rank'],\n",
              "      dtype='object')"
            ]
          },
          "metadata": {},
          "execution_count": 26
        }
      ]
    },
    {
      "cell_type": "code",
      "source": [
        "df[\"fullname\"]=df[\"firstname\"]+\" \"+df[\"lastname\"]"
      ],
      "metadata": {
        "id": "eneZgkEFP_4_"
      },
      "execution_count": 27,
      "outputs": []
    },
    {
      "cell_type": "code",
      "source": [
        "cou = pd.read_csv(\"https://raw.githubusercontent.com/plotly/datasets/master/2014_world_gdp_with_codes.csv\")"
      ],
      "metadata": {
        "id": "P_NMaEXLRMA2"
      },
      "execution_count": 28,
      "outputs": []
    },
    {
      "cell_type": "code",
      "source": [
        "df[~df['country'].isin(cou[\"CODE\"])][\"country\"].unique()"
      ],
      "metadata": {
        "id": "mYu6BqzMR1Ba",
        "outputId": "ce767449-37a1-4cb5-b32b-c7e5b3c307ef",
        "colab": {
          "base_uri": "https://localhost:8080/"
        }
      },
      "execution_count": 29,
      "outputs": [
        {
          "output_type": "execute_result",
          "data": {
            "text/plain": [
              "array(['SLO', 'GER', 'SUI', 'NED', 'IRI', 'LAT', 'TPE', 'CHI', 'RSA',\n",
              "       'BUL', 'CRO', 'GRE', 'PUR', 'DEN', 'MRI', 'INA', 'MGL'],\n",
              "      dtype=object)"
            ]
          },
          "metadata": {},
          "execution_count": 29
        }
      ]
    },
    {
      "cell_type": "code",
      "source": [
        "df.loc[df.country == 'SLO', 'country'] = 'SVN'\n",
        "df.loc[df.country == 'GER', 'country'] = 'DEU'\n",
        "df.loc[df.country == 'SUI', 'country'] = 'CHE'\n",
        "df.loc[df.country == 'NED', 'country'] = 'NLD'\n",
        "df.loc[df.country == 'IRI', 'country'] = 'IRN'\n",
        "df.loc[df.country == 'LAT', 'country'] = 'LVA'\n",
        "df.loc[df.country == 'TPE', 'country'] = 'TWN'\n",
        "df.loc[df.country == 'CHI', 'country'] = 'CHL'\n",
        "df.loc[df.country == 'RSA', 'country'] = 'ZAF'\n",
        "df.loc[df.country == 'BUL', 'country'] = 'BGR'\n",
        "df.loc[df.country == 'CRO', 'country'] = 'HRV'\n",
        "df.loc[df.country == 'GRE', 'country'] = 'GRC'\n",
        "df.loc[df.country == 'PUR', 'country'] = 'PRI'\n",
        "df.loc[df.country == 'DEN', 'country'] = 'DNK'\n",
        "df.loc[df.country == 'MRI', 'country'] = 'MUS'\n",
        "df.loc[df.country == 'INA', 'country'] = 'IDN'\n",
        "df.loc[df.country == 'MGL', 'country'] = 'MNG'"
      ],
      "metadata": {
        "id": "97vgFAPqRBiE"
      },
      "execution_count": 30,
      "outputs": []
    },
    {
      "cell_type": "code",
      "source": [
        "df.dropna(subset=['rank'], inplace=True)"
      ],
      "metadata": {
        "id": "_qHS0AWKr0U6"
      },
      "execution_count": 32,
      "outputs": []
    },
    {
      "cell_type": "code",
      "source": [
        "df.shape"
      ],
      "metadata": {
        "id": "Ej-w-mCtr5EF",
        "outputId": "741dd194-55d9-4e12-9b27-9cab56365e81",
        "colab": {
          "base_uri": "https://localhost:8080/"
        }
      },
      "execution_count": 33,
      "outputs": [
        {
          "output_type": "execute_result",
          "data": {
            "text/plain": [
              "(4474, 27)"
            ]
          },
          "metadata": {},
          "execution_count": 33
        }
      ]
    },
    {
      "cell_type": "code",
      "source": [
        "df[\"rank\"].unique()"
      ],
      "metadata": {
        "id": "1Kk9HM_irZKJ",
        "outputId": "95332251-175f-4132-e693-1123630e7dfb",
        "colab": {
          "base_uri": "https://localhost:8080/"
        }
      },
      "execution_count": 34,
      "outputs": [
        {
          "output_type": "execute_result",
          "data": {
            "text/plain": [
              "array([  1.,   2.,   3.,   4.,   5.,   6.,   7.,   8.,   9.,  10.,  11.,\n",
              "        12.,  13.,  14.,  15.,  16.,  17.,  18.,  19.,  20.,  21.,  22.,\n",
              "        23.,  24.,  25.,  26.,  27.,  28.,  29.,  30.,  31.,  32.,  34.,\n",
              "        35.,  36.,  37.,  38.,  40.,  41.,  42.,  44.,  45.,  47.,  49.,\n",
              "        50.,  51.,  52.,  53.,  54.,  55.,  56.,  57.,  58.,  59.,  60.,\n",
              "        61.,  62.,  63.,  64.,  65.,  66.,  67.,  69.,  70.,  71.,  72.,\n",
              "        73.,  74.,  75.,  76.,  77.,  78.,  80.,  81.,  82.,  83.,  84.,\n",
              "        85.,  86.,  88.,  89.,  90.,  91.,  92.,  93.,  95.,  96.,  97.,\n",
              "        33.,  39.,  43.,  46.,  48.,  68.,  79.,  94.,  87.,  98.,  99.,\n",
              "       102., 103., 110., 101., 105., 107., 109., 111., 113., 115., 117.,\n",
              "       118., 119., 100., 123., 124., 125., 127., 129., 134., 108.])"
            ]
          },
          "metadata": {},
          "execution_count": 34
        }
      ]
    },
    {
      "cell_type": "code",
      "source": [
        "df.to_csv(\"df.csv\")"
      ],
      "metadata": {
        "id": "N88SUr4l3ubm"
      },
      "execution_count": 35,
      "outputs": []
    }
  ]
}