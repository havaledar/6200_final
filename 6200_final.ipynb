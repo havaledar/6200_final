{
  "nbformat": 4,
  "nbformat_minor": 0,
  "metadata": {
    "colab": {
      "provenance": [],
      "authorship_tag": "ABX9TyP3pNkQ3Cle94aJMCwemUJl",
      "include_colab_link": true
    },
    "kernelspec": {
      "name": "python3",
      "display_name": "Python 3"
    },
    "language_info": {
      "name": "python"
    }
  },
  "cells": [
    {
      "cell_type": "markdown",
      "metadata": {
        "id": "view-in-github",
        "colab_type": "text"
      },
      "source": [
        "<a href=\"https://colab.research.google.com/github/havaledar/6200_final/blob/main/6200_final.ipynb\" target=\"_parent\"><img src=\"https://colab.research.google.com/assets/colab-badge.svg\" alt=\"Open In Colab\"/></a>"
      ]
    },
    {
      "cell_type": "code",
      "source": [
        "import pandas as pd"
      ],
      "metadata": {
        "id": "UE06Z0ia1KzV"
      },
      "execution_count": 3,
      "outputs": []
    },
    {
      "cell_type": "code",
      "execution_count": 9,
      "metadata": {
        "id": "fLd7LiHJnl28"
      },
      "outputs": [],
      "source": [
        "BandL=pd.read_csv(\"https://raw.githubusercontent.com/havaledar/6200_final/main/B%26L.csv\")\n",
        "BL=pd.read_csv(\"https://raw.githubusercontent.com/havaledar/6200_final/main/BLs.csv\")\n",
        "BS=pd.read_csv(\"https://raw.githubusercontent.com/havaledar/6200_final/main/BSs.csv\")\n",
        "B=pd.read_csv(\"https://raw.githubusercontent.com/havaledar/6200_final/main/Bs.csv\")\n",
        "LBSC=pd.read_csv(\"https://raw.githubusercontent.com/havaledar/6200_final/main/LBSC.csv\")\n",
        "LS=pd.read_csv(\"https://raw.githubusercontent.com/havaledar/6200_final/main/LSs.csv\")\n",
        "L=pd.read_csv(\"https://raw.githubusercontent.com/havaledar/6200_final/main/Ls.csv\")"
      ]
    },
    {
      "cell_type": "code",
      "source": [
        "BandL.columns=['City', 'Country', 'Year', 'Ds', 'Event', 'discipline', 'category',\n",
        "       'rank', 'firstname', 'lastname', 'country', 'yob',\n",
        "       'Qualification score', 'Qualification rank', 'Semi-Final score',\n",
        "       'Semi-Final rank', 'Final score', 'Final rank']\n",
        "B.columns=['City', 'Country', 'Year', 'Ds', 'Event', 'discipline', 'category',\n",
        "       'rank', 'firstname', 'lastname', 'country', 'yob',\n",
        "       'Qualification score', 'Qualification rank', 'Semi-Final score',\n",
        "       'Semi-Final rank', 'Final score', 'Final rank']\n",
        "LS.columns=['City', 'Country', 'Year', 'Ds', 'Event', 'discipline', 'category',\n",
        "       'rank', 'firstname', 'lastname', 'country', 'yob',\n",
        "       'Qualification 1 score', 'Qualification 1 rank',\n",
        "       'Qualification 2 score', 'Qualification 2 rank', 'Qualification score',\n",
        "       'Qualification rank', 'Semi-Final score', 'Semi-Final rank',\n",
        "       '1/8 score', '1/4 score', '1/2 score', 'Small Final score',\n",
        "       'Final score', 'Final rank']"
      ],
      "metadata": {
        "id": "pCBjNdeo2u9V"
      },
      "execution_count": 49,
      "outputs": []
    },
    {
      "cell_type": "code",
      "source": [
        "df=pd.concat([LBSC, BL, BS, L, BandL, B, LS])\n",
        "print(len(df.columns), len(LBSC.columns))"
      ],
      "metadata": {
        "colab": {
          "base_uri": "https://localhost:8080/"
        },
        "id": "0DFeEAGy2IGL",
        "outputId": "ead111c9-ca3a-4261-c88a-25363379643a"
      },
      "execution_count": 50,
      "outputs": [
        {
          "output_type": "stream",
          "name": "stdout",
          "text": [
            "26 26\n"
          ]
        }
      ]
    },
    {
      "cell_type": "code",
      "source": [
        "df.to_csv(\"df.csv\")"
      ],
      "metadata": {
        "id": "N88SUr4l3ubm"
      },
      "execution_count": 51,
      "outputs": []
    }
  ]
}